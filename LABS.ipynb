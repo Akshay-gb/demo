{
 "cells": [
  {
   "cell_type": "code",
   "execution_count": 14,
   "id": "423766b0",
   "metadata": {},
   "outputs": [
    {
     "name": "stdout",
     "output_type": "stream",
     "text": [
      "Enter n to generate prime numbers:992\n",
      "992 is not a prime Number\n"
     ]
    }
   ],
   "source": [
    "n = int(input(\"Enter n to generate prime numbers:\"))\n",
    "count = 0\n",
    "\n",
    "for i in range(1,13):\n",
    "    if n % i == 0:\n",
    "        count += 1\n",
    "if count > 2:\n",
    "    print(n,\"is not a prime Number\")\n",
    "else:\n",
    "    print(n,\"is a prime number\")\n",
    "    "
   ]
  },
  {
   "cell_type": "code",
   "execution_count": 18,
   "id": "392006ac",
   "metadata": {},
   "outputs": [
    {
     "name": "stdout",
     "output_type": "stream",
     "text": [
      "Enter n:10 \n",
      "Enter m:20\n",
      "10 is not a prime number\n",
      "11 is a prime number\n",
      "12 is not a prime number\n",
      "13 is a prime number\n",
      "14 is not a prime number\n",
      "15 is not a prime number\n",
      "16 is not a prime number\n",
      "17 is a prime number\n",
      "18 is not a prime number\n",
      "19 is a prime number\n",
      "20 is not a prime number\n"
     ]
    }
   ],
   "source": [
    "n = int(input(\"Enter n:\"))\n",
    "m = int(input(\"Enter m:\"))\n",
    "for i in range(n , m + 1):\n",
    "    count = 0\n",
    "    for j in range(1,12):\n",
    "        if i % j == 0:\n",
    "            count += 1\n",
    "    if count > 2:\n",
    "        print(i,\"is not a prime number\")\n",
    "    else:\n",
    "        print(i,\"is a prime number\")\n",
    "    "
   ]
  },
  {
   "cell_type": "code",
   "execution_count": 22,
   "id": "7ba8e1cd",
   "metadata": {},
   "outputs": [
    {
     "name": "stdout",
     "output_type": "stream",
     "text": [
      "Enter Student marks:45\n",
      "Enter Student marks:55\n",
      "Enter Student marks:65\n",
      "Enter Student marks:75\n",
      "Enter Student marks:85\n",
      "Enter Student marks:95\n",
      "[45, 55, 65, 75, 85, 95]\n",
      "Student 1 Grade is Fail\n",
      "Student 2 Grade is D\n",
      "Student 3 Grade is c\n",
      "Student 4 Grade is b\n",
      "Student 5 Grade is a\n",
      "Student 6 Grade is o\n"
     ]
    }
   ],
   "source": [
    "ls = []\n",
    "for i in range(6):\n",
    "    marks = int(input(\"Enter Student marks:\"))\n",
    "    ls.append(marks)\n",
    "for i in range(len(ls)):\n",
    "    if ls[i] >= 90 and ls[i] <= 100:\n",
    "        print(\"Student\",i + 1,\"Grade is o\")\n",
    "    elif ls[i] >= 80 and ls[i] <= 89:\n",
    "        print(\"Student\",i + 1,\"Grade is a\")\n",
    "    elif ls[i] >= 70 and ls[i] <= 79:\n",
    "        print(\"Student\",i + 1,\"Grade is b\")\n",
    "    elif ls[i] >= 60 and ls[i] <= 69:\n",
    "        print(\"Student\",i + 1,\"Grade is c\")\n",
    "    elif ls[i] >= 50 and ls[i] <= 59:\n",
    "        print(\"Student\",i + 1,\"Grade is D\")\n",
    "    else:\n",
    "        print(\"Student\",i + 1,\"Grade is Fail\")"
   ]
  },
  {
   "cell_type": "code",
   "execution_count": 23,
   "id": "84d4925d",
   "metadata": {},
   "outputs": [],
   "source": [
    "ls = [1,\"hello\",\"hello\",4.5,True]"
   ]
  },
  {
   "cell_type": "code",
   "execution_count": 24,
   "id": "c9915d64",
   "metadata": {},
   "outputs": [
    {
     "data": {
      "text/plain": [
       "[1, 'hello', 'hello', 4.5, True]"
      ]
     },
     "execution_count": 24,
     "metadata": {},
     "output_type": "execute_result"
    }
   ],
   "source": [
    "ls"
   ]
  },
  {
   "cell_type": "code",
   "execution_count": 25,
   "id": "dde287a5",
   "metadata": {},
   "outputs": [],
   "source": [
    "tup = (1,2,\"hello\",4.5)"
   ]
  },
  {
   "cell_type": "code",
   "execution_count": 27,
   "id": "f68ee782",
   "metadata": {},
   "outputs": [
    {
     "data": {
      "text/plain": [
       "(1, 2, 'hello', 4.5)"
      ]
     },
     "execution_count": 27,
     "metadata": {},
     "output_type": "execute_result"
    }
   ],
   "source": [
    "tup"
   ]
  },
  {
   "cell_type": "code",
   "execution_count": 28,
   "id": "15a33950",
   "metadata": {},
   "outputs": [
    {
     "data": {
      "text/plain": [
       "tuple"
      ]
     },
     "execution_count": 28,
     "metadata": {},
     "output_type": "execute_result"
    }
   ],
   "source": [
    "type(tup)"
   ]
  },
  {
   "cell_type": "code",
   "execution_count": 29,
   "id": "cb406e9c",
   "metadata": {},
   "outputs": [
    {
     "data": {
      "text/plain": [
       "list"
      ]
     },
     "execution_count": 29,
     "metadata": {},
     "output_type": "execute_result"
    }
   ],
   "source": [
    "type(ls)"
   ]
  },
  {
   "cell_type": "code",
   "execution_count": 30,
   "id": "fc9e5b61",
   "metadata": {},
   "outputs": [
    {
     "data": {
      "text/plain": [
       "{1, 2, 3, 4, 5}"
      ]
     },
     "execution_count": 30,
     "metadata": {},
     "output_type": "execute_result"
    }
   ],
   "source": [
    "set_ = {1,2,2,3,4,5,5}\n",
    "set_"
   ]
  },
  {
   "cell_type": "code",
   "execution_count": 47,
   "id": "febd8e87",
   "metadata": {},
   "outputs": [
    {
     "data": {
      "text/plain": [
       "{'name': ['Akshay', 'Akshay'], 'Roll no': 400, 'City': 'Gvt'}"
      ]
     },
     "execution_count": 47,
     "metadata": {},
     "output_type": "execute_result"
    }
   ],
   "source": [
    "stud = {\"name\":[\"Akshay\",\"Akshay\"],\"Roll no\":400,\"City\":\"Bangalore\",\"City\":\"Gvt\"}\n",
    "stud"
   ]
  },
  {
   "cell_type": "code",
   "execution_count": 45,
   "id": "1a46caba",
   "metadata": {},
   "outputs": [
    {
     "name": "stdout",
     "output_type": "stream",
     "text": [
      "name\n",
      "Roll no\n",
      "City\n"
     ]
    }
   ],
   "source": [
    "for i in stud:\n",
    "    print(i)"
   ]
  },
  {
   "cell_type": "code",
   "execution_count": 49,
   "id": "cdea5b7b",
   "metadata": {},
   "outputs": [
    {
     "data": {
      "text/plain": [
       "'Gvt'"
      ]
     },
     "execution_count": 49,
     "metadata": {},
     "output_type": "execute_result"
    }
   ],
   "source": [
    "stud['City']"
   ]
  },
  {
   "cell_type": "code",
   "execution_count": 39,
   "id": "7678370b",
   "metadata": {},
   "outputs": [
    {
     "data": {
      "text/plain": [
       "'Bangalore'"
      ]
     },
     "execution_count": 39,
     "metadata": {},
     "output_type": "execute_result"
    }
   ],
   "source": [
    "stud[\"City\"]"
   ]
  },
  {
   "cell_type": "code",
   "execution_count": 12,
   "id": "7c8bf7c4",
   "metadata": {},
   "outputs": [
    {
     "name": "stdout",
     "output_type": "stream",
     "text": [
      "hello 'how' are you\n",
      "hi how\tare you\n",
      "hello \\n\"hi\"\n",
      " \"hello\", 'hi' \n"
     ]
    }
   ],
   "source": [
    "s1 = \"hello 'how' are you\"\n",
    "s2 = 'hi how\\tare you'\n",
    "s3 = '''hello \\\\n\"hi\"'''\n",
    "s4 =\"\"\" \"hello\", 'hi' \"\"\"\n",
    "\n",
    "print(s1)\n",
    "print(s2)\n",
    "print(s3)\n",
    "print(s4)"
   ]
  },
  {
   "cell_type": "code",
   "execution_count": 17,
   "id": "ac1b3f14",
   "metadata": {},
   "outputs": [
    {
     "name": "stdout",
     "output_type": "stream",
     "text": [
      "Enter the string:faheem\n",
      "heemheemheem\n"
     ]
    }
   ],
   "source": [
    "s = input(\"Enter the string:\")\n",
    "if len(s) > 8:\n",
    "    print(\"String is not accepted\")\n",
    "else:\n",
    "    print(s[2:6] * 3)"
   ]
  },
  {
   "cell_type": "code",
   "execution_count": 42,
   "id": "8c7947ce",
   "metadata": {},
   "outputs": [
    {
     "name": "stdout",
     "output_type": "stream",
     "text": [
      "Enter the string:Aksh\n",
      "String must be atleast 6 characters\n"
     ]
    }
   ],
   "source": [
    "s1 = input(\"Enter the string:\")\n",
    "if len(s1) < 6:\n",
    "    print(\"String must be atleast 6 characters\")\n",
    "else:\n",
    "    last_char = s1[-2:]\n",
    "    i = int(len(s1) / 2)\n",
    "    print(\"Concatenating Mid Two Chars and Last Two Chars\",s1[i - 1:i + 1] + last_char)"
   ]
  },
  {
   "cell_type": "code",
   "execution_count": 47,
   "id": "e474bdce",
   "metadata": {},
   "outputs": [
    {
     "name": "stdout",
     "output_type": "stream",
     "text": [
      "Enter the main String:bec bgk 123\n",
      "Enter the substring to check in main string:bgl\n",
      "Su Str is not present in main String\n"
     ]
    }
   ],
   "source": [
    "main_str = input(\"Enter the main String:\")\n",
    "ls = main_str.split()\n",
    "sub_str = input(\"Enter the substring to check in main string:\")\n",
    "for i in ls:\n",
    "    if i == sub_str:\n",
    "        print(\"Sub Str is present in main string\")\n",
    "        break\n",
    "else:\n",
    "    print(\"Su Str is not present in main String\")"
   ]
  },
  {
   "cell_type": "code",
   "execution_count": 52,
   "id": "428c49f3",
   "metadata": {},
   "outputs": [
    {
     "name": "stdout",
     "output_type": "stream",
     "text": [
      "Enter the string1:a\n",
      "Enter the syting2:a\n",
      "Both Strings are equal\n"
     ]
    }
   ],
   "source": [
    "s = input(\"Enter the string1:\")\n",
    "s1 = input(\"Enter the syting2:\")\n",
    "if s == s1:\n",
    "    print(\"Both Strings are equal\")\n",
    "elif s > s1:\n",
    "    print(\"String1 is greater\")\n",
    "else:\n",
    "    print(\"STring2 is greater\")"
   ]
  },
  {
   "cell_type": "code",
   "execution_count": 65,
   "id": "0781198c",
   "metadata": {},
   "outputs": [
    {
     "name": "stdout",
     "output_type": "stream",
     "text": [
      "9\n",
      "Aks hay  8\n",
      " Aks hay 8\n",
      "Aks hay 7\n"
     ]
    }
   ],
   "source": [
    "name = \" Aks hay \"\n",
    "name1 = \" Aks hay \"\n",
    "name2 = \" Aks hay \"\n",
    "nl = name.lstrip()\n",
    "nr = name1.rstrip()\n",
    "ns = name2.strip()\n",
    "print(len(name))\n",
    "print(nl,len(nl))\n",
    "print(nr,len(nr))\n",
    "print(ns,len(ns))"
   ]
  },
  {
   "cell_type": "code",
   "execution_count": 73,
   "id": "2ace55e2",
   "metadata": {},
   "outputs": [
    {
     "name": "stdout",
     "output_type": "stream",
     "text": [
      "Enter the Sentence to Check spaces:a k s h a y\n",
      "Spaces Between Strings: 5\n"
     ]
    }
   ],
   "source": [
    "s = input(\"Enter the Sentence to Check spaces:\")\n",
    "print(\"Spaces Between Strings:\",s.count(\" \"))"
   ]
  },
  {
   "cell_type": "code",
   "execution_count": 67,
   "id": "83117b38",
   "metadata": {},
   "outputs": [
    {
     "name": "stdout",
     "output_type": "stream",
     "text": [
      "s\n"
     ]
    }
   ],
   "source": [
    "name = \"akshay gb\"\n",
    "if \" \" == \" \":\n",
    "    print(\"s\")"
   ]
  },
  {
   "cell_type": "code",
   "execution_count": 69,
   "id": "9ff33e81",
   "metadata": {},
   "outputs": [
    {
     "data": {
      "text/plain": [
       "3"
      ]
     },
     "execution_count": 69,
     "metadata": {},
     "output_type": "execute_result"
    }
   ],
   "source": [
    "name.count(\" \")"
   ]
  },
  {
   "cell_type": "code",
   "execution_count": 8,
   "id": "1adaf2a8",
   "metadata": {},
   "outputs": [
    {
     "name": "stdout",
     "output_type": "stream",
     "text": [
      "Number of spaces in sentence: 5\n",
      "After Removing extra spaces at left\n",
      "Space Count: 4\n",
      "After Removing extra spaces at left\n",
      "Space Count: 3\n"
     ]
    },
    {
     "data": {
      "text/plain": [
       "'im akshay from bangalore'"
      ]
     },
     "execution_count": 8,
     "metadata": {},
     "output_type": "execute_result"
    }
   ],
   "source": [
    "s = \" im akshay from bangalore \"\n",
    "print(\"Number of spaces in sentence:\",s.count(\" \"))\n",
    "print(\"After Removing extra spaces at left\")\n",
    "print(\"Space Count:\",s.lstrip().count(\" \"))\n",
    "print(\"After Removing extra spaces at left\")\n",
    "print(\"Space Count:\",s.strip().count(\" \"))\n",
    "s.strip()"
   ]
  },
  {
   "cell_type": "code",
   "execution_count": 18,
   "id": "e5734d56",
   "metadata": {},
   "outputs": [
    {
     "data": {
      "text/plain": [
       "10"
      ]
     },
     "execution_count": 18,
     "metadata": {},
     "output_type": "execute_result"
    }
   ],
   "source": [
    "s1 = \"bec bgk 123 bec bec\"\n",
    "s1.find(\"3\",0,15)"
   ]
  },
  {
   "cell_type": "code",
   "execution_count": 19,
   "id": "14c90730",
   "metadata": {},
   "outputs": [
    {
     "name": "stdout",
     "output_type": "stream",
     "text": [
      "b is at loc: 0\n",
      "e is at loc: 1\n",
      "c is at loc: 2\n",
      "  is at loc: 3\n",
      "b is at loc: 4\n",
      "g is at loc: 5\n",
      "k is at loc: 6\n",
      "  is at loc: 7\n",
      "1 is at loc: 8\n",
      "2 is at loc: 9\n",
      "3 is at loc: 10\n",
      "  is at loc: 11\n",
      "b is at loc: 12\n",
      "e is at loc: 13\n",
      "c is at loc: 14\n",
      "  is at loc: 15\n",
      "b is at loc: 16\n",
      "e is at loc: 17\n",
      "c is at loc: 18\n"
     ]
    }
   ],
   "source": [
    "for i in range(len(s1)):\n",
    "    print(s1[i],\"is at loc:\",s1.find(s1[i],i))"
   ]
  },
  {
   "cell_type": "code",
   "execution_count": 26,
   "id": "9483f3ee",
   "metadata": {},
   "outputs": [
    {
     "name": "stdout",
     "output_type": "stream",
     "text": [
      "True\n"
     ]
    }
   ],
   "source": [
    "print(s1.endswith(\"c\"))"
   ]
  },
  {
   "cell_type": "code",
   "execution_count": 6,
   "id": "91705444",
   "metadata": {},
   "outputs": [
    {
     "name": "stdout",
     "output_type": "stream",
     "text": [
      "Current Date: 2024-06-10 12:48:17.699230 Current year: 2024 Current Month Name: June\n",
      "Current year is leap year!!!\n"
     ]
    }
   ],
   "source": [
    "from datetime import datetime\n",
    "now = datetime.now()\n",
    "year = now.year\n",
    "mon = now.strftime(\"%B\")\n",
    "print(\"Current Date:\",now,\"Current year:\",year,\"Current Month Name:\",mon)\n",
    "if (year % 4 == 0 and year % 100 != 0) or year % 400 == 0:\n",
    "    print(\"Current year is leap year!!!\")\n",
    "else:\n",
    "    print(\"Current year is not leap year\")"
   ]
  },
  {
   "cell_type": "code",
   "execution_count": 2,
   "id": "76900f63",
   "metadata": {},
   "outputs": [
    {
     "data": {
      "text/plain": [
       "datetime.datetime(2024, 6, 10, 12, 44, 47, 674154)"
      ]
     },
     "execution_count": 2,
     "metadata": {},
     "output_type": "execute_result"
    }
   ],
   "source": [
    "now"
   ]
  },
  {
   "cell_type": "code",
   "execution_count": 7,
   "id": "72f59ecb",
   "metadata": {},
   "outputs": [
    {
     "name": "stdout",
     "output_type": "stream",
     "text": [
      "Enter the Numbers with Higher number in each case\n",
      "5\n"
     ]
    }
   ],
   "source": [
    "print(\"Enter the Numbers with Higher number in each case\")\n",
    "n = int(input(\"Enter the N:\"))\n",
    "for i in range(n):\n",
    "    a = int(input(\"Enter the number greater than prev number:\"))\n",
    "    swa1,swa2 = a, \n",
    "    if \n"
   ]
  },
  {
   "cell_type": "markdown",
   "id": "230ef38e",
   "metadata": {},
   "source": [
    "## WEEK 4 ASSIGNMENT 6"
   ]
  },
  {
   "cell_type": "code",
   "execution_count": 40,
   "id": "8ae83954",
   "metadata": {},
   "outputs": [
    {
     "name": "stdout",
     "output_type": "stream",
     "text": [
      "Enter the List of Tuples:[[2,3],(4,4),(1,2),(2,5),(2,1)]\n",
      "[(2, 1), (1, 2), (2, 3), (4, 4), (2, 5)]\n"
     ]
    }
   ],
   "source": [
    "ls_tup = eval(input(\"Enter the List of Tuples:\"))\n",
    "ls_tup_v = []\n",
    "l = []\n",
    "for i in range(len(ls_tup)):\n",
    "    ls_f = []\n",
    "    ls_tup_v.append(list(ls_tup[i]))\n",
    "    l.append(ls_tup_v[i][::-1])\n",
    "lv = sorted(l)\n",
    "ls_tup_v.clear()\n",
    "for i in range(len(l)):\n",
    "    ls_tup_v.append(tuple(lv[i][::-1]))\n",
    "print(ls_tup_v)"
   ]
  },
  {
   "cell_type": "markdown",
   "id": "d1aa6644",
   "metadata": {},
   "source": [
    "## WEEK 4 ASSIGNMENT 5"
   ]
  },
  {
   "cell_type": "code",
   "execution_count": null,
   "id": "860b1560",
   "metadata": {},
   "outputs": [],
   "source": [
    "print(\"Matrix 1\")\n",
    "m = int(input(\"Enter the m:\"))\n",
    "n = int(input(\"Enter tge n:\"))\n",
    "mat1 = []\n",
    "for i in range(m - 1):\n",
    "    l = []\n",
    "    print(\"Enter %dth row elements\"%(i + 1))\n",
    "    for j in range(n):\n",
    "        n = int(input(\"Enter elements:\"))\n",
    "        l.append(n)\n",
    "    mat1.append(l)\n",
    "print(\"Matrix 2\")\n",
    "mat2 = []\n",
    "m1 = int(input(\"Enter the m:\"))\n",
    "n1 = int(input(\"Enter tge n:\"))\n",
    "for k in range(m1):\n",
    "    l = []\n",
    "    print(\"Enter %dth row elements\"%(i + 1))\n",
    "    for l in range(n1):\n",
    "        n = int(input(\"Enter elements:\"))\n",
    "        l.append(n)\n",
    "    mat2.append(l)\n",
    "no_of_ele = m * n\n",
    "c = 0\n",
    "if m == m1 and n == n1:\n",
    "    for i in range(m):\n",
    "        for j in range(n):\n",
    "            if mat1[i][j] == mat2[i][j]:\n",
    "                c += 1\n",
    "    if c == no_of_ele:\n",
    "        print(\"Both Matrices Are Identical\")\n",
    "    else:\n",
    "        print(\"Dimension Are Matched But Elements are not Mathcing\")\n",
    "else:\n",
    "    print(\"Dimension Are Not Matching\")\n",
    "print(\"Matrix 1\")\n",
    "print(mat1)\n",
    "print(\"Matrix 2\")\n",
    "print(mat2)"
   ]
  },
  {
   "cell_type": "code",
   "execution_count": null,
   "id": "9fd4e295",
   "metadata": {},
   "outputs": [],
   "source": [
    "\n"
   ]
  },
  {
   "cell_type": "code",
   "execution_count": null,
   "id": "777808b0",
   "metadata": {},
   "outputs": [],
   "source": []
  }
 ],
 "metadata": {
  "kernelspec": {
   "display_name": "Python 3 (ipykernel)",
   "language": "python",
   "name": "python3"
  },
  "language_info": {
   "codemirror_mode": {
    "name": "ipython",
    "version": 3
   },
   "file_extension": ".py",
   "mimetype": "text/x-python",
   "name": "python",
   "nbconvert_exporter": "python",
   "pygments_lexer": "ipython3",
   "version": "3.11.5"
  }
 },
 "nbformat": 4,
 "nbformat_minor": 5
}
