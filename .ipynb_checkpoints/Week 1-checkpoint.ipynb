{
 "cells": [
  {
   "cell_type": "markdown",
   "id": "61f61b38",
   "metadata": {},
   "source": [
    "## PGMS LIST"
   ]
  },
  {
   "cell_type": "markdown",
   "id": "a2555236",
   "metadata": {},
   "source": [
    "## 1"
   ]
  },
  {
   "cell_type": "code",
   "execution_count": 4,
   "id": "7875de71",
   "metadata": {},
   "outputs": [
    {
     "name": "stdout",
     "output_type": "stream",
     "text": [
      "Enter the number to check divisible by 7:49\n",
      "Yes\n"
     ]
    }
   ],
   "source": [
    "n = int(input(\"Enter the number to check divisible by 7:\"))\n",
    "if n % 7 == 0:\n",
    "    print(\"Yes\")\n",
    "else:\n",
    "    \n",
    "    print(\"NO\")"
   ]
  },
  {
   "cell_type": "markdown",
   "id": "b86687b8",
   "metadata": {},
   "source": [
    "## 2"
   ]
  },
  {
   "cell_type": "code",
   "execution_count": 7,
   "id": "be43157b",
   "metadata": {},
   "outputs": [
    {
     "name": "stdout",
     "output_type": "stream",
     "text": [
      "Enter the num to check pos , neg or zero:-1\n",
      "Negative\n"
     ]
    }
   ],
   "source": [
    "n = int(input(\"Enter the num to check pos , neg or zero:\"))\n",
    "if n < 0:\n",
    "    print(\"Negative\")\n",
    "elif n == 0:\n",
    "    print(\"Zero\")\n",
    "else:\n",
    "    print(\"Positive\")"
   ]
  },
  {
   "cell_type": "markdown",
   "id": "1e7e5282",
   "metadata": {},
   "source": [
    "## 3"
   ]
  },
  {
   "cell_type": "code",
   "execution_count": 18,
   "id": "602df9d0",
   "metadata": {},
   "outputs": [
    {
     "name": "stdout",
     "output_type": "stream",
     "text": [
      "Enter the 3 marks with space:35 32 31\n",
      "Grade D: 32.666666666666664\n"
     ]
    }
   ],
   "source": [
    "n = input(\"Enter the 3 marks with space:\").split()\n",
    "tot = 0\n",
    "for i in range(3):\n",
    "    tot += int(n[i])\n",
    "avg = (tot/300)*100\n",
    "if avg >= 80:\n",
    "    print(\"Grade A:\",avg)\n",
    "elif avg >= 60 < 80:\n",
    "    print(\"Grade B:\",avg)\n",
    "elif avg >= 40 < 60:\n",
    "    print(\"Grade C:\",avg)\n",
    "else:\n",
    "    print(\"Grade D:\",avg)"
   ]
  },
  {
   "cell_type": "markdown",
   "id": "b727b3a7",
   "metadata": {},
   "source": [
    "## 4"
   ]
  },
  {
   "cell_type": "code",
   "execution_count": 28,
   "id": "43788197",
   "metadata": {},
   "outputs": [
    {
     "name": "stdout",
     "output_type": "stream",
     "text": [
      "Enter the Num1:1\n",
      "Enter the Num2:2\n",
      "Enter the Num3:3\n",
      "Enter the Num4:4\n",
      "Num1 is smaller: 1\n"
     ]
    }
   ],
   "source": [
    "n1 = int(input(\"Enter the Num1:\"))\n",
    "n2 = int(input(\"Enter the Num2:\"))\n",
    "n3 = int(input(\"Enter the Num3:\"))\n",
    "n4 = int(input(\"Enter the Num4:\"))\n",
    "if n1 < n2:\n",
    "    if n1 <  n3:\n",
    "        if n1 < n4:\n",
    "            print(\"Num1 is smaller:\",n1)\n",
    "        else:\n",
    "            print(\"Num4 is smaller:\",n4)\n",
    "    else:\n",
    "        if n3 < n4:\n",
    "            print(\"Num3 is smaller:\",n3)\n",
    "        else:\n",
    "            print(\"Num4 is smaller:\",n4)\n",
    "else:\n",
    "    if n2 < n3:\n",
    "        if n2 < n4:\n",
    "            print(\"Num2 is smaller:\",n2)\n",
    "        else:\n",
    "            print(\"Num4 is smaller:\",n4)\n",
    "    else:\n",
    "        if n3 < n4:\n",
    "            print(\"Num3 is smaller:\",n3)\n",
    "        else:\n",
    "            print(\"Num4 is smaller:\",n4)"
   ]
  },
  {
   "cell_type": "markdown",
   "id": "2158f04b",
   "metadata": {},
   "source": [
    "## 5"
   ]
  },
  {
   "cell_type": "code",
   "execution_count": 27,
   "id": "6e40bbff",
   "metadata": {},
   "outputs": [
    {
     "name": "stdout",
     "output_type": "stream",
     "text": [
      "Enter String to convert Upper case or Number to convert Binary:12\n",
      "Binary Representation: 0b1100\n"
     ]
    }
   ],
   "source": [
    "n = input(\"Enter String to convert Upper case or Number to convert Binary:\")\n",
    "if n.isalpha():\n",
    "    print(\"In Upper Case:\",n.upper())\n",
    "elif n.isdigit():\n",
    "    print(\"Binary Representation:\",bin(int(n)))\n",
    "else:\n",
    "    print(\"Invalid\")"
   ]
  },
  {
   "cell_type": "markdown",
   "id": "20e9c8b4",
   "metadata": {},
   "source": [
    "## 6"
   ]
  },
  {
   "cell_type": "code",
   "execution_count": 37,
   "id": "9818b059",
   "metadata": {},
   "outputs": [
    {
     "name": "stdout",
     "output_type": "stream",
     "text": [
      "Enter the x:4\n",
      "Enter the y:-6\n",
      "4th Quadrant\n"
     ]
    }
   ],
   "source": [
    "x = int(input(\"Enter the x:\"))\n",
    "y = int(input(\"Enter the y:\"))\n",
    "if x > 0 and y > 0:\n",
    "    print(\"1st Quadrant\")\n",
    "elif x == 0 and y == 0:\n",
    "    print(\"Origin\")\n",
    "elif x == 0 and y > 0:\n",
    "    print(\"X axis\")\n",
    "elif x > 0 and y == 0:\n",
    "    print(\"Y axis\")\n",
    "elif x < 0 and y >= 0:\n",
    "    print(\"2nd Quadrant\")\n",
    "elif x < 0 and y < 0:\n",
    "    print(\"3rd Quadrant\")\n",
    "elif x > 0 and y < 0:\n",
    "    print(\"4th Quadrant\")"
   ]
  },
  {
   "cell_type": "markdown",
   "id": "8bdd31c9",
   "metadata": {},
   "source": [
    "## 7"
   ]
  },
  {
   "cell_type": "code",
   "execution_count": 39,
   "id": "d353fc89",
   "metadata": {},
   "outputs": [
    {
     "name": "stdout",
     "output_type": "stream",
     "text": [
      "Quadratic Equation: ax^2 + bx + c\n",
      "Enter a:1\n",
      "Enter b:4\n",
      "Enter c:4\n",
      "Roots are real and equla\n",
      "Root1: + -2.0\n",
      "Root2: - -2.0\n"
     ]
    }
   ],
   "source": [
    "import math\n",
    "print(\"Quadratic Equation: ax^2 + bx + c\")\n",
    "a = int(input(\"Enter a:\"))\n",
    "b = int(input(\"Enter b:\"))\n",
    "c = int(input(\"Enter c:\"))\n",
    "qd = (b * b) - (4 * a * c)\n",
    "if qd > 0:\n",
    "    print(\"Roots are real and distinct\")\n",
    "    root1 = (-b + math.sqrt(qd))/ 2 * a\n",
    "    root2 = (-b - math.sqrt(qd))/ 2 * a\n",
    "    print(\"Root1 :\",root1)\n",
    "    print(\"Root2 :\",root2)\n",
    "elif qd == 0:\n",
    "    print(\"Roots are real and equla\")\n",
    "    root = -b / (2 * a)\n",
    "    print(\"Root1:\",root)\n",
    "else:\n",
    "    print(\"Roots are real and imaginary\")\n",
    "    real = -b / (2 * a)\n",
    "    imag = math.sqrt(abs(qd))\n",
    "    print(\"Root1 :\",real,\"+\",imag,\"i\")\n",
    "    print(\"Root2 :\",real,\"-\",imag,\"i\")"
   ]
  },
  {
   "cell_type": "markdown",
   "id": "a2d75b6d",
   "metadata": {},
   "source": [
    "## 8"
   ]
  },
  {
   "cell_type": "code",
   "execution_count": 48,
   "id": "faab93ce",
   "metadata": {},
   "outputs": [
    {
     "name": "stdout",
     "output_type": "stream",
     "text": [
      "Enter something:Akshay\n",
      "Numbers of Vowels: 2\n",
      "Number of Consonants: 4\n"
     ]
    }
   ],
   "source": [
    "s = input(\"Enter something:\")\n",
    "vowels = \"aeiouAEIOU\"\n",
    "v = 0\n",
    "c = 0\n",
    "for i in range(len(s)):\n",
    "    if s[i] in vowels:\n",
    "        v += 1\n",
    "    else:\n",
    "        c += 1\n",
    "print(\"Numbers of Vowels:\",v)\n",
    "print(\"Number of Consonants:\",c)"
   ]
  },
  {
   "cell_type": "markdown",
   "id": "6f339dfa",
   "metadata": {},
   "source": [
    "## 9"
   ]
  },
  {
   "cell_type": "code",
   "execution_count": 49,
   "id": "94f8b96d",
   "metadata": {},
   "outputs": [
    {
     "name": "stdout",
     "output_type": "stream",
     "text": [
      "Enter Num to Check prime or not:3\n",
      "Prime Num\n"
     ]
    }
   ],
   "source": [
    "n = int(input(\"Enter Num to Check prime or not:\"))\n",
    "c = 0\n",
    "if n < 2:\n",
    "    print(\"Neither prime neither composite\")\n",
    "else:\n",
    "    for i in range(2,int(n ** 0.5) + 1):\n",
    "        if n % i == 0:\n",
    "            c += 1\n",
    "            break\n",
    "    if c == 0:\n",
    "        print(\"Prime Num\")\n",
    "    else:\n",
    "        print(\"Not a prime\")"
   ]
  },
  {
   "cell_type": "code",
   "execution_count": null,
   "id": "f228062e",
   "metadata": {},
   "outputs": [],
   "source": []
  }
 ],
 "metadata": {
  "kernelspec": {
   "display_name": "Python 3 (ipykernel)",
   "language": "python",
   "name": "python3"
  },
  "language_info": {
   "codemirror_mode": {
    "name": "ipython",
    "version": 3
   },
   "file_extension": ".py",
   "mimetype": "text/x-python",
   "name": "python",
   "nbconvert_exporter": "python",
   "pygments_lexer": "ipython3",
   "version": "3.11.5"
  }
 },
 "nbformat": 4,
 "nbformat_minor": 5
}
